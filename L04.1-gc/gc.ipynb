{
 "cells": [
  {
   "cell_type": "code",
   "execution_count": 1,
   "metadata": {
    "collapsed": true
   },
   "outputs": [],
   "source": [
    "import pandas as pd\n",
    "import re\n",
    "import json \n",
    "import ast"
   ]
  },
  {
   "cell_type": "code",
   "execution_count": 5,
   "metadata": {
    "collapsed": true
   },
   "outputs": [],
   "source": [
    "r = re.compile(\n",
    "    \"(?P<time>\\d{2}:\\d{2}:\\d{2}\\.\\d{3}) \\[.*\\] INFO  ru.otus.l041.gclog.Slf4jGCLogger.log - (?P<data>.*)\"\n",
    ")\n",
    "\n",
    "with open(\"log/out.log\") as log_file:\n",
    "    lines = log_file.readlines()\n",
    "   \n",
    "gc_info = [\n",
    "    {**{\"time\": m.group(\"time\")}, **(json.loads(m.group(\"data\")))}\n",
    "    for m in map(r.match, lines)\n",
    "]"
   ]
  },
  {
   "cell_type": "code",
   "execution_count": 7,
   "metadata": {},
   "outputs": [
    {
     "data": {
      "text/html": [
       "<div>\n",
       "<style>\n",
       "    .dataframe thead tr:only-child th {\n",
       "        text-align: right;\n",
       "    }\n",
       "\n",
       "    .dataframe thead th {\n",
       "        text-align: left;\n",
       "    }\n",
       "\n",
       "    .dataframe tbody tr th {\n",
       "        vertical-align: top;\n",
       "    }\n",
       "</style>\n",
       "<table border=\"1\" class=\"dataframe\">\n",
       "  <thead>\n",
       "    <tr style=\"text-align: right;\">\n",
       "      <th></th>\n",
       "      <th>count</th>\n",
       "      <th>gcName</th>\n",
       "      <th>spentTime</th>\n",
       "      <th>time</th>\n",
       "    </tr>\n",
       "  </thead>\n",
       "  <tbody>\n",
       "    <tr>\n",
       "      <th>0</th>\n",
       "      <td>154</td>\n",
       "      <td>G1 Young Generation</td>\n",
       "      <td>6982</td>\n",
       "      <td>20:52:14.266</td>\n",
       "    </tr>\n",
       "    <tr>\n",
       "      <th>1</th>\n",
       "      <td>25</td>\n",
       "      <td>G1 Old Generation</td>\n",
       "      <td>11942</td>\n",
       "      <td>20:52:14.269</td>\n",
       "    </tr>\n",
       "    <tr>\n",
       "      <th>2</th>\n",
       "      <td>109</td>\n",
       "      <td>G1 Young Generation</td>\n",
       "      <td>3136</td>\n",
       "      <td>20:53:14.235</td>\n",
       "    </tr>\n",
       "    <tr>\n",
       "      <th>3</th>\n",
       "      <td>44</td>\n",
       "      <td>G1 Old Generation</td>\n",
       "      <td>26971</td>\n",
       "      <td>20:53:14.235</td>\n",
       "    </tr>\n",
       "    <tr>\n",
       "      <th>4</th>\n",
       "      <td>250</td>\n",
       "      <td>G1 Young Generation</td>\n",
       "      <td>9597</td>\n",
       "      <td>20:54:14.235</td>\n",
       "    </tr>\n",
       "  </tbody>\n",
       "</table>\n",
       "</div>"
      ],
      "text/plain": [
       "   count               gcName  spentTime          time\n",
       "0    154  G1 Young Generation       6982  20:52:14.266\n",
       "1     25    G1 Old Generation      11942  20:52:14.269\n",
       "2    109  G1 Young Generation       3136  20:53:14.235\n",
       "3     44    G1 Old Generation      26971  20:53:14.235\n",
       "4    250  G1 Young Generation       9597  20:54:14.235"
      ]
     },
     "execution_count": 7,
     "metadata": {},
     "output_type": "execute_result"
    }
   ],
   "source": [
    "gc_df = pd.DataFrame(gc_info)\n",
    "gc_df.head()"
   ]
  },
  {
   "cell_type": "code",
   "execution_count": 9,
   "metadata": {
    "collapsed": true
   },
   "outputs": [],
   "source": [
    "gc_groups = {\n",
    "    \"G1 Young Generation\": \"G1\", \n",
    "    \"G1 Old Generation\": \"G1\",\n",
    "    \"ParNew\": \"CMS\",\n",
    "    \"ConcurrentMarkSweep\": \"CMS\",\n",
    "    \"PS Scavenge\": \"Parallel\",\n",
    "    \"PS MarkSweep\": \"Parallel\",\n",
    "    \"Copy\": \"Serial\",\n",
    "    \"MarkSweepCompact\": \"Serial\"\n",
    "}"
   ]
  },
  {
   "cell_type": "code",
   "execution_count": 15,
   "metadata": {},
   "outputs": [
    {
     "data": {
      "text/html": [
       "<div>\n",
       "<style>\n",
       "    .dataframe thead tr:only-child th {\n",
       "        text-align: right;\n",
       "    }\n",
       "\n",
       "    .dataframe thead th {\n",
       "        text-align: left;\n",
       "    }\n",
       "\n",
       "    .dataframe tbody tr th {\n",
       "        vertical-align: top;\n",
       "    }\n",
       "</style>\n",
       "<table border=\"1\" class=\"dataframe\">\n",
       "  <thead>\n",
       "    <tr style=\"text-align: right;\">\n",
       "      <th></th>\n",
       "      <th>count</th>\n",
       "      <th>gcName</th>\n",
       "      <th>spentTime</th>\n",
       "      <th>time</th>\n",
       "      <th>gcAlg</th>\n",
       "    </tr>\n",
       "  </thead>\n",
       "  <tbody>\n",
       "    <tr>\n",
       "      <th>0</th>\n",
       "      <td>154</td>\n",
       "      <td>G1 Young Generation</td>\n",
       "      <td>6982</td>\n",
       "      <td>20:52:14.266</td>\n",
       "      <td>G1</td>\n",
       "    </tr>\n",
       "    <tr>\n",
       "      <th>1</th>\n",
       "      <td>25</td>\n",
       "      <td>G1 Old Generation</td>\n",
       "      <td>11942</td>\n",
       "      <td>20:52:14.269</td>\n",
       "      <td>G1</td>\n",
       "    </tr>\n",
       "    <tr>\n",
       "      <th>2</th>\n",
       "      <td>109</td>\n",
       "      <td>G1 Young Generation</td>\n",
       "      <td>3136</td>\n",
       "      <td>20:53:14.235</td>\n",
       "      <td>G1</td>\n",
       "    </tr>\n",
       "    <tr>\n",
       "      <th>3</th>\n",
       "      <td>44</td>\n",
       "      <td>G1 Old Generation</td>\n",
       "      <td>26971</td>\n",
       "      <td>20:53:14.235</td>\n",
       "      <td>G1</td>\n",
       "    </tr>\n",
       "    <tr>\n",
       "      <th>4</th>\n",
       "      <td>250</td>\n",
       "      <td>G1 Young Generation</td>\n",
       "      <td>9597</td>\n",
       "      <td>20:54:14.235</td>\n",
       "      <td>G1</td>\n",
       "    </tr>\n",
       "  </tbody>\n",
       "</table>\n",
       "</div>"
      ],
      "text/plain": [
       "   count               gcName  spentTime          time gcAlg\n",
       "0    154  G1 Young Generation       6982  20:52:14.266    G1\n",
       "1     25    G1 Old Generation      11942  20:52:14.269    G1\n",
       "2    109  G1 Young Generation       3136  20:53:14.235    G1\n",
       "3     44    G1 Old Generation      26971  20:53:14.235    G1\n",
       "4    250  G1 Young Generation       9597  20:54:14.235    G1"
      ]
     },
     "execution_count": 15,
     "metadata": {},
     "output_type": "execute_result"
    }
   ],
   "source": [
    "gc_df[\"gcAlg\"] = gc_df[\"gcName\"].apply(gc_groups.get)\n",
    "gc_df.head()"
   ]
  },
  {
   "cell_type": "code",
   "execution_count": 20,
   "metadata": {},
   "outputs": [
    {
     "data": {
      "text/html": [
       "<div>\n",
       "<style>\n",
       "    .dataframe thead tr:only-child th {\n",
       "        text-align: right;\n",
       "    }\n",
       "\n",
       "    .dataframe thead th {\n",
       "        text-align: left;\n",
       "    }\n",
       "\n",
       "    .dataframe tbody tr th {\n",
       "        vertical-align: top;\n",
       "    }\n",
       "</style>\n",
       "<table border=\"1\" class=\"dataframe\">\n",
       "  <thead>\n",
       "    <tr style=\"text-align: right;\">\n",
       "      <th></th>\n",
       "      <th>total_count</th>\n",
       "      <th>total_spent_time [ms]</th>\n",
       "    </tr>\n",
       "    <tr>\n",
       "      <th>gcAlg</th>\n",
       "      <th></th>\n",
       "      <th></th>\n",
       "    </tr>\n",
       "  </thead>\n",
       "  <tbody>\n",
       "    <tr>\n",
       "      <th>CMS</th>\n",
       "      <td>1199</td>\n",
       "      <td>610334</td>\n",
       "    </tr>\n",
       "    <tr>\n",
       "      <th>G1</th>\n",
       "      <td>1825</td>\n",
       "      <td>382690</td>\n",
       "    </tr>\n",
       "    <tr>\n",
       "      <th>Parallel</th>\n",
       "      <td>1224</td>\n",
       "      <td>288215</td>\n",
       "    </tr>\n",
       "    <tr>\n",
       "      <th>Serial</th>\n",
       "      <td>2573</td>\n",
       "      <td>564174</td>\n",
       "    </tr>\n",
       "  </tbody>\n",
       "</table>\n",
       "</div>"
      ],
      "text/plain": [
       "          total_count  total_spent_time [ms]\n",
       "gcAlg                                       \n",
       "CMS              1199                 610334\n",
       "G1               1825                 382690\n",
       "Parallel         1224                 288215\n",
       "Serial           2573                 564174"
      ]
     },
     "execution_count": 20,
     "metadata": {},
     "output_type": "execute_result"
    }
   ],
   "source": [
    "gc_df.groupby(\"gcAlg\")\\\n",
    "  .agg({\"count\": \"sum\", \"spentTime\": \"sum\"})\\\n",
    "  .rename(columns={\"count\": \"total_count\", \"spentTime\": \"total_spent_time [ms]\"})"
   ]
  },
  {
   "cell_type": "code",
   "execution_count": null,
   "metadata": {
    "collapsed": true
   },
   "outputs": [],
   "source": []
  }
 ],
 "metadata": {
  "kernelspec": {
   "display_name": "Python [conda root]",
   "language": "python",
   "name": "conda-root-py"
  },
  "language_info": {
   "codemirror_mode": {
    "name": "ipython",
    "version": 3
   },
   "file_extension": ".py",
   "mimetype": "text/x-python",
   "name": "python",
   "nbconvert_exporter": "python",
   "pygments_lexer": "ipython3",
   "version": "3.6.1"
  }
 },
 "nbformat": 4,
 "nbformat_minor": 2
}
